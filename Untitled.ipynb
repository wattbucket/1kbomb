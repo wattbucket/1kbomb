{
 "cells": [
  {
   "cell_type": "code",
   "execution_count": 8,
   "metadata": {},
   "outputs": [
    {
     "data": {
      "text/html": [
       "<script>\n",
       "code_show=true; \n",
       "function code_toggle() {\n",
       " if (code_show){\n",
       " $('div.input').hide();\n",
       " } else {\n",
       " $('div.input').show();\n",
       " }\n",
       " code_show = !code_show\n",
       "} \n",
       "$( document ).ready(code_toggle);\n",
       "</script>\n",
       "<form action=\"javascript:code_toggle()\"><input type=\"submit\" value=\" \n",
       "Curso: Diseño y mantenimiento de instalaciones de energía solar fotovoltaica\n",
       "Alumno: Francisco Manuel Roman Gamez\n",
       "\n",
       "\"></form>\n",
       "\n"
      ],
      "text/plain": [
       "<IPython.core.display.HTML object>"
      ]
     },
     "metadata": {},
     "output_type": "display_data"
    }
   ],
   "source": [
    "\n",
    "\n",
    "%%html\n",
    "<script>\n",
    "code_show=true; \n",
    "function code_toggle() {\n",
    " if (code_show){\n",
    " $('div.input').hide();\n",
    " } else {\n",
    " $('div.input').show();\n",
    " }\n",
    " code_show = !code_show\n",
    "} \n",
    "$( document ).ready(code_toggle);\n",
    "</script>\n",
    "<form action=\"javascript:code_toggle()\"><input type=\"submit\" value=\" \n",
    "Curso: Diseño y mantenimiento de instalaciones de energía solar fotovoltaica\n",
    "Alumno: Francisco Manuel Roman Gamez\n",
    "\n",
    "\"></form>\n",
    "\n"
   ]
  },
  {
   "cell_type": "code",
   "execution_count": null,
   "metadata": {},
   "outputs": [],
   "source": []
  },
  {
   "cell_type": "code",
   "execution_count": null,
   "metadata": {},
   "outputs": [],
   "source": []
  },
  {
   "cell_type": "code",
   "execution_count": 7,
   "metadata": {},
   "outputs": [],
   "source": [
    "from flask import Flask, jsonify, render_template, request, session, Markup\n",
    "\n",
    "import matplotlib.pyplot as plt\n",
    "import base64\n",
    "from io import BytesIO\n",
    "\n",
    "\n",
    "fig = plt.figure()\n",
    "plt.bar([1,3], [4,1], align='center')\n",
    "\n",
    "\n",
    "img = BytesIO()\n",
    "plt.savefig(img, format='png')\n",
    "img.seek(0)\n",
    "plot_url = base64.b64encode(img.getvalue()).decode()\n",
    "model_plot = Markup('<img src=\"data:image/png;base64,{}\">'.format(plot_url))\n",
    "plt.close()\n",
    "\n",
    "# html = 'Some html head' + '<img src=\\'data:image/png;base64,{}\\'>'.format(encoded) + 'Some more html'\n",
    "\n",
    "\n",
    "\n",
    "\n",
    "fig = plt.figure()\n",
    "plt.bar([1,5], [4,7], align='center')\n",
    "img = BytesIO()\n",
    "plt.savefig(img, format='png')\n",
    "img.seek(0)\n",
    "plot_url2 = base64.b64encode(img.getvalue()).decode()\n",
    "model_plot = Markup('<img src=\"data:image/png;base64,{}\">'.format(plot_url2))\n",
    "plt.close()\n",
    "\n"
   ]
  },
  {
   "cell_type": "markdown",
   "metadata": {},
   "source": [
    "![Hello World](data:image/png;base64,{{encoded}})"
   ]
  },
  {
   "cell_type": "markdown",
   "metadata": {
    "variables": {
     "('<img src=\"data:image/png;base64,{}\">'.format(plot_url))": "<img src=\"data:image/png;base64,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\">",
     "('<img src=\"data:image/png;base64,{}\">'.format(plot_url2))": "<img src=\"data:image/png;base64,iVBORw0KGgoAAAANSUhEUgAAAbAAAAEgCAYAAADVKCZpAAAABHNCSVQICAgIfAhkiAAAAAlwSFlzAAALEgAACxIB0t1+/AAAADh0RVh0U29mdHdhcmUAbWF0cGxvdGxpYiB2ZXJzaW9uMy4yLjEsIGh0dHA6Ly9tYXRwbG90bGliLm9yZy+j8jraAAAOQ0lEQVR4nO3cUYiVdf7H8e/k4F40SoRnKmaiwQ1yZiyPM5MWiDTBtG7JghqhGdWaHIguNrrauy6VoFCqmwPRQoFe7EWJpiTNLpIsDA9qEJF00YAjUqfAstnCaZr/VdLm/v/4Lz2/+TavFwgznMeZzwOOb57nnDMdc3NzcwEAyVxXegAA/BICBkBKAgZASgIGQEoCBkBKAgZASgIGQEoCBkBKAgZASgIGQEoCBkBKAgZASgIGQEoCBkBKAgZASgIGQEoCBkBKAgZASgIGQEoCBkBKAgZASgIGQEoCBkBKAgZASgIGQEoCBkBKAgZASgIGQEoCBkBKAgZASgIGQEoCBkBKAgZASgIGQEqdpQdcK8uWLYu+vr7SMwBSmZycjC+++KL0jCvymw1YX19fVFVVegZAKiMjI6UnXDG3EAFIScAASEnAAEhJwABIKUXATp8+HfV6/dKfpUuXxp49e0rPAqCgFK9CvOOOO+LUqVMRETE7Oxs9PT2xadOmwqsAKCnFFdhPvffee/H73/8+brvtttJTACgoXcD2798f27ZtKz0DgMJS3EL80cWLF+PAgQOxa9eu//p4s9mMZrMZERGtVqud04Dk+v56qPSEq2Zy90OlJ7RFqiuww4cPx9DQUNx0003/9fFGoxFVVUVVVVGr1dq8DoB2ShWwffv2uX0IQEQkCtj09HQcPXo0Nm/eXHoKAPNAmufArr/++vjyyy9LzwBgnkhzBQYAPyVgAKQkYACkJGAApCRgAKQkYACkJGAApCRgAKQkYACkJGAApCRgAKQkYACkJGAApCRgAKQkYACkJGAApCRgAKQkYACkJGAApCRgAKSUJmDnz5+Phx9+OFasWBH9/f3xr3/9q/QkAArqLD3gSv3lL3+JDRs2xN///ve4ePFi/Pvf/y49CYCCUgTsq6++imPHjsXf/va3iIhYvHhxLF68uOwoAIpKcQvx008/jVqtFn/+859j9erVsXPnzpieni49C4CCUgTs+++/jxMnTsTTTz8dJ0+ejOuvvz5279592XHNZjNGRkZiZGQkWq1WgaUAtEuKgPX29kZvb2+sXbs2IiIefvjhOHHixGXHNRqNqKoqqqqKWq3W7pkAtFGKgN18881x6623xunTpyMi4r333ouBgYHCqwAoKcWLOCIiXn755di+fXtcvHgxli9fHq+//nrpSQAUlCZg9Xo9qqoqPQOAeSLFLUQA+DkBAyAlAQMgJQEDICUBAyAlAQMgJQEDICUBAyAlAQMgJQEDICUBAyAlAQMgJQEDICUBAyAlAQMgJQEDICUBAyAlAQMgJQEDICUBAyAlAQMgpc7SA65UX19fLFmyJBYtWhSdnZ1RVVXpSQAUlCZgERH/+Mc/YtmyZaVnADAPuIUIQEppAtbR0REPPPBADA8PR7PZLD0HgMLS3EJ8//33o6enJz7//PMYGxuLFStWxPr16//jmGazeSlurVarxEwA2iTNFVhPT09ERHR3d8emTZtiYmLismMajUZUVRVVVUWtVmv3RADaKEXApqen48KFC5c+fvfdd2PlypWFVwFQUopbiJ999lls2rQpIiK+//77ePTRR2PDhg2FVwFQUoqALV++PD744IPSMwCYR1LcQgSAnxMwAFISMABSEjAAUhIwAFISMABSEjAAUhIwAFISMABSEjAAUhIwAFISMABSEjAAUhIwAFISMABSEjAAUhIwAFISMABSEjAAUhIwAFISMABSShWw2dnZWL16dWzcuLH0FAAKSxWwvXv3Rn9/f+kZAMwDaQI2NTUVhw4dip07d5aeAsA8kCZgzz77bLzwwgtx3XVpJgNwDXWWHnAlDh48GN3d3TE8PBz//Oc//9fjms1mNJvNiIhotVq/+Pv1/fXQL/67883k7odKTwC4JlJczhw/fjwOHDgQfX19sXXr1hgfH4/HHnvssuMajUZUVRVVVUWtViuwFIB2SRGwXbt2xdTUVExOTsb+/fvj/vvvjzfffLP0LAAKShEwAPi5FM+B/dR9990X9913X+kZABTmCgyAlAQMgJQEDICUBAyAlAQMgJQEDICUBAyAlAQMgJQEDICUBAyAlAQMgJQEDICUBAyAlAQMgJQEDICUBAyAlAQMgJQEDICUBAyAlAQMgJRSBOy7776LNWvWxKpVq2JwcDCef/750pMAKKyz9IAr8bvf/S7Gx8ejq6srZmZmYt26dfHHP/4x7rnnntLTACgkxRVYR0dHdHV1RUTEzMxMzMzMREdHR+FVAJSUImAREbOzs1Gv16O7uzvGxsZi7dq1pScBUFCagC1atChOnToVU1NTMTExER9++OFlxzSbzRgZGYmRkZFotVoFVgLQLmkC9qMbbrghRkdH48iRI5c91mg0oqqqqKoqarVagXUAtEuKgLVarTh//nxERHz77bdx9OjRWLFiReFVAJSU4lWI586diyeeeCJmZ2fjhx9+iEceeSQ2btxYehYABaUI2F133RUnT54sPQOAeSTFLUQA+DkBAyAlAQMgJQEDICUBAyAlAQMgJQEDICUBAyAlAQMgJQEDICUBAyAlAQMgJQEDICUBAyAlAQMgJQEDICUBAyAlAQMgJQEDICUBAyAlAQMgpRQBO3PmTIyOjsbAwEAMDg7G3r17S08CoLDO0gOuRGdnZ7z44osxNDQUFy5ciOHh4RgbG4uBgYHS0wAoJMUV2C233BJDQ0MREbFkyZLo7++Ps2fPFl4FQEkpAvZTk5OTcfLkyVi7dm3pKQAUlOIW4o+++eab2LJlS+zZsyeWLl162ePNZjOazWZERLRarXbPA6CN0lyBzczMxJYtW2L79u2xefPm/3pMo9GIqqqiqqqo1WptXghAO6UI2NzcXDz11FPR398fzz33XOk5AMwDKQJ2/PjxeOONN2J8fDzq9XrU6/V45513Ss8CoKAUz4GtW7cu5ubmSs8AYB5JcQUGAD8nYACkJGAApCRgAKQkYACkJGAApCRgAKQkYACkJGAApCRgAKQkYACkJGAApCRgAKQkYACkJGAApCRgAKQkYACkJGAApCRgAKQkYACklCZgO3bsiO7u7li5cmXpKQDMA2kC9uSTT8aRI0dKzwBgnkgTsPXr18eNN95YegYA80SagAHAT3WWHnA1NZvNaDabERHRarUKrwHgWvpNXYE1Go2oqiqqqoparVZ6DgDX0G8qYAAsHGkCtm3btrj33nvj9OnT0dvbG6+99lrpSQAUlOY5sH379pWeAMA8kuYKDAB+SsAASEnAAEhJwABIScAASEnAAEhJwABIScAASEnAAEhJwABIScAASEnAAEhJwABIScAASEnAAEhJwABIScAASEnAAEhJwABIScAASEnAAEgpTcCOHDkSd9xxR9x+++2xe/fu0nMAKCxFwGZnZ+OZZ56Jw4cPx0cffRT79u2Ljz76qPQsAApKEbCJiYm4/fbbY/ny5bF48eLYunVrvP3226VnAVBQioCdPXs2br311kuf9/b2xtmzZwsuAqC0ztIDrqZmsxnNZjMiIj7++OMYGRn5RV9n2dUc9X9otVpRq9Wu6fcYGXn+mn79X6od5z5fLeRzj5i/59+On/t2nfuv+bmfnJy8ekOusRQB6+npiTNnzlz6fGpqKnp6ei47rtFoRKPRaOe0X2VkZCSqqio9owjnvjDPPWJhn/9CPvdrIcUtxLvvvjs++eST+PTTT+PixYuxf//++NOf/lR6FgAFpbgC6+zsjFdeeSX+8Ic/xOzsbOzYsSMGBwdLzwKgoBQBi4h48MEH48EHHyw946rKdLvzanPuC9dCPv+FfO7XQsfc3Nxc6REA8P+V4jkwAPg5AStgx44d0d3dHStXriw9pe3OnDkTo6OjMTAwEIODg7F3797Sk9rmu+++izVr1sSqVaticHAwnn9+fr7F4VqanZ2N1atXx8aNG0tPabu+vr648847o16v/+K3+PCf3EIs4NixY9HV1RWPP/54fPjhh6XntNW5c+fi3LlzMTQ0FBcuXIjh4eF46623YmBgoPS0a25ubi6mp6ejq6srZmZmYt26dbF379645557Sk9rm5deeimqqoqvv/46Dh48WHpOW/X19UVVVbFsWbveafrb5wqsgPXr18eNN95YekYRt9xySwwNDUVExJIlS6K/v3/B/FaVjo6O6OrqioiImZmZmJmZiY6OjsKr2mdqaioOHToUO3fuLD2F3wgBo5jJyck4efJkrF27tvSUtpmdnY16vR7d3d0xNja2oM792WefjRdeeCGuu25h/rfT0dERDzzwQAwPD1/6jUH8OgvzXxLFffPNN7Fly5bYs2dPLF26tPSctlm0aFGcOnUqpqamYmJiYsHcQj548GB0d3fH8PBw6SnFvP/++3HixIk4fPhwvPrqq3Hs2LHSk9ITMNpuZmYmtmzZEtu3b4/NmzeXnlPEDTfcEKOjo3HkyJHSU9ri+PHjceDAgejr64utW7fG+Ph4PPbYY6VntdWPv/6uu7s7Nm3aFBMTE4UX5SdgtNXc3Fw89dRT0d/fH88991zpOW3VarXi/PnzERHx7bffxtGjR2PFihWFV7XHrl27YmpqKiYnJ2P//v1x//33x5tvvll6VttMT0/HhQsXLn387rvvLshXIV9tAlbAtm3b4t57743Tp09Hb29vvPbaa6Untc3x48fjjTfeiPHx8ajX61Gv1+Odd94pPastzp07F6Ojo3HXXXfF3XffHWNjYwvy5eQL0WeffRbr1q2LVatWxZo1a+Khhx6KDRs2lJ6VnpfRA5CSKzAAUhIwAFISMABSEjAAUhIwAFISMABSEjAAUhIwAFISMABSEjAAUhIwAFISMABSEjAAUhIwAFISMABSEjAAUhIwAFISMABSEjAAUhIwAFL6H9PUAEgekAnLAAAAAElFTkSuQmCC\">"
    }
   },
   "source": [
    "{{('<img src=\"data:image/png;base64,{}\">'.format(plot_url))}}\n",
    "\n",
    "{{('<img src=\"data:image/png;base64,{}\">'.format(plot_url2))}}"
   ]
  },
  {
   "cell_type": "code",
   "execution_count": 4,
   "metadata": {},
   "outputs": [],
   "source": []
  },
  {
   "cell_type": "code",
   "execution_count": null,
   "metadata": {},
   "outputs": [],
   "source": []
  },
  {
   "cell_type": "code",
   "execution_count": 5,
   "metadata": {},
   "outputs": [],
   "source": []
  },
  {
   "cell_type": "code",
   "execution_count": null,
   "metadata": {},
   "outputs": [],
   "source": []
  },
  {
   "cell_type": "code",
   "execution_count": null,
   "metadata": {},
   "outputs": [],
   "source": []
  }
 ],
 "metadata": {
  "kernelspec": {
   "display_name": "Python 3",
   "language": "python",
   "name": "python3"
  },
  "language_info": {
   "codemirror_mode": {
    "name": "ipython",
    "version": 3
   },
   "file_extension": ".py",
   "mimetype": "text/x-python",
   "name": "python",
   "nbconvert_exporter": "python",
   "pygments_lexer": "ipython3",
   "version": "3.6.9"
  },
  "latex_envs": {
   "LaTeX_envs_menu_present": true,
   "autoclose": false,
   "autocomplete": true,
   "bibliofile": "biblio.bib",
   "cite_by": "apalike",
   "current_citInitial": 1,
   "eqLabelWithNumbers": true,
   "eqNumInitial": 1,
   "hotkeys": {
    "equation": "Ctrl-E",
    "itemize": "Ctrl-I"
   },
   "labels_anchors": false,
   "latex_user_defs": false,
   "report_style_numbering": false,
   "user_envs_cfg": false
  },
  "varInspector": {
   "cols": {
    "lenName": 16,
    "lenType": 16,
    "lenVar": 40
   },
   "kernels_config": {
    "python": {
     "delete_cmd_postfix": "",
     "delete_cmd_prefix": "del ",
     "library": "var_list.py",
     "varRefreshCmd": "print(var_dic_list())"
    },
    "r": {
     "delete_cmd_postfix": ") ",
     "delete_cmd_prefix": "rm(",
     "library": "var_list.r",
     "varRefreshCmd": "cat(var_dic_list()) "
    }
   },
   "types_to_exclude": [
    "module",
    "function",
    "builtin_function_or_method",
    "instance",
    "_Feature"
   ],
   "window_display": false
  }
 },
 "nbformat": 4,
 "nbformat_minor": 4
}
